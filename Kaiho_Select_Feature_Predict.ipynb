{
 "cells": [
  {
   "cell_type": "code",
   "execution_count": 260,
   "id": "6af86c40",
   "metadata": {},
   "outputs": [
    {
     "name": "stdout",
     "output_type": "stream",
     "text": [
      "D:\\Software\\Anaconda\\Lib\\site-packages\\matplotlib\\mpl-data\\fonts\\ttf\\MPLUSRounded1c-Regular.ttf\n"
     ]
    }
   ],
   "source": [
    "import numpy as np\n",
    "import pandas as pd\n",
    "import matplotlib.pyplot as plt\n",
    "import tensorflow as tf\n",
    "import re\n",
    "import os\n",
    "from itertools import chain\n",
    "import glob\n",
    "import seaborn as sns\n",
    "import matplotlib.font_manager as font_manager\n",
    "import seaborn as sns\n",
    "import matplotlib as mpl\n",
    "from pytorch_tabnet.tab_model import TabNetRegressor\n",
    "import torch\n",
    "from sklearn.preprocessing import LabelEncoder\n",
    "from sklearn.preprocessing import scale \n",
    "from sklearn import model_selection\n",
    "from sklearn.model_selection import RepeatedKFold\n",
    "from sklearn.model_selection import train_test_split\n",
    "from sklearn.decomposition import PCA\n",
    "from sklearn.linear_model import LinearRegression\n",
    "from sklearn.metrics import mean_squared_error\n",
    "from sklearn.model_selection import train_test_split\n",
    "from sklearn.feature_selection import SelectKBest\n",
    "from sklearn.feature_selection import f_regression\n",
    "from sklearn.neural_network import MLPRegressor\n",
    "from sklearn.neighbors import KNeighborsRegressor\n",
    "from sklearn.ensemble import GradientBoostingRegressor\n",
    "from sklearn.tree import DecisionTreeRegressor\n",
    "from sklearn.ensemble import ExtraTreesRegressor\n",
    "from sklearn.ensemble import RandomForestRegressor, AdaBoostRegressor\n",
    "from sklearn.linear_model import SGDRegressor\n",
    "from xgboost import XGBRegressor\n",
    "from lightgbm import LGBMRegressor\n",
    "from catboost import CatBoostRegressor, Pool\n",
    "from sklearn.preprocessing import StandardScaler\n",
    "from lightgbm import LGBMRegressor\n",
    "from sklearn.neighbors import LocalOutlierFactor\n",
    "from sklearn.model_selection import RandomizedSearchCV\n",
    "from collections import Counter\n",
    "from sklearn.model_selection import GridSearchCV\n",
    "from pandas import read_csv\n",
    "from datetime import datetime\n",
    "from sklearn.metrics import mean_absolute_percentage_error\n",
    "from statsmodels.tsa.stattools import adfuller\n",
    "from statsmodels.tsa.seasonal import seasonal_decompose\n",
    "from statsmodels.tsa.arima_model import ARIMA\n",
    "from statsmodels.tsa.statespace.sarimax import SARIMAX\n",
    "from pandas.plotting import register_matplotlib_converters\n",
    "import warnings\n",
    "warnings.filterwarnings('ignore')\n",
    "register_matplotlib_converters()\n",
    "sns.set_theme()\n",
    "mpl.matplotlib_fname()\n",
    "font_dirs = ['D:\\\\Software\\\\Anaconda\\\\Lib\\\\site-packages\\\\matplotlib\\\\mpl-data\\\\fonts\\\\ttf' ]\n",
    "font_files = font_manager.findSystemFonts(fontpaths=font_dirs)\n",
    "for font_file in font_files:\n",
    "    font_manager.fontManager.addfont(font_file)\n",
    "mpl.font_manager._rebuild()\n",
    "result = font_manager.findfont(\"Rounded Mplus 1c\")\n",
    "print(result)\n",
    "mpl.rc('font', family='Rounded Mplus 1c')\n",
    "\n",
    "\n",
    "le = LabelEncoder()\n",
    "ss = StandardScaler()"
   ]
  },
  {
   "cell_type": "code",
   "execution_count": 36,
   "id": "596d6fad",
   "metadata": {},
   "outputs": [],
   "source": [
    "names = [\"Gradient_Boosting\", \"Decision_Tree\", \"Extra_Trees\", \"Random_Forest\",\"XGBoost\",\"LGBMRegressor\"]\n",
    "models = [\n",
    "    GradientBoostingRegressor(),\n",
    "    DecisionTreeRegressor(max_depth=5),\n",
    "    ExtraTreesRegressor(),\n",
    "    RandomForestRegressor(),\n",
    "    XGBRegressor(),\n",
    "    LGBMRegressor()]"
   ]
  },
  {
   "cell_type": "code",
   "execution_count": 3,
   "id": "5c60f048",
   "metadata": {},
   "outputs": [],
   "source": [
    "df = pd.read_csv('Kaiho_merged_data.csv')"
   ]
  },
  {
   "cell_type": "code",
   "execution_count": 6,
   "id": "1b45a591",
   "metadata": {
    "scrolled": false
   },
   "outputs": [
    {
     "data": {
      "text/plain": [
       "Index(['Vị trí_ロケーション', 'Ngày sản xuất_生産日', 'Tháng sản xuất_生産月',\n",
       "       'Năm sản xuất_生産年', 'Nv sản xuất_生産担当者', 'Số nhập kho_入庫番号',\n",
       "       'Nguồn nhập hàng_仕入先', 'Mã loại phụ tùng_商品コード', 'Tên phụ tùng_商品名',\n",
       "       'Số nhập kho(phụ tùng)_入庫番号 (部品)', 'Tên xe_車名', 'Model xe_車輌型式',\n",
       "       'Engine model_エンジン型式', 'Số lượng_数量_PARTS', 'Tổng giá nhập_仕入合計',\n",
       "       'Số phút công_標準工数', 'Kết quả_生産高',\n",
       "       'Ước tính giá bán ra tại thời điểm nhập hàng_仕入時販売予測額',\n",
       "       'Ước tính giá bán ra tại thời điểm sản xuất_生産時販売予測額',\n",
       "       'Số lượng bán ra_販売数量', 'Thành tích bán ra_販売実績', 'Khách hàng_仕向先',\n",
       "       'Truyền động 1_駆動1', 'TM_TM', 'Truyền động 2_駆動2', 'Chi tiết_詳細',\n",
       "       'Số km đã chạy_走行距離', 'Năm sản xuất_年式', 'Tình trạng engine_エンジン状態',\n",
       "       'Rank_ランク', 'Loại xe_車種', 'Tình trạng sản xuất_未生産',\n",
       "       'Ước tính giá bán ra tại thời điểm nhập hàng_仕入時販売予測額.1',\n",
       "       'Số chỉ định loại_型式指定番号', 'Số phân loại danh mục_類別区分番号',\n",
       "       'Đơn giá mua_仕入単価', 'Nhà sản xuất_メーカー', 'Giờ làm việc_工数',\n",
       "       'Số lượng_数量_OUT', 'Đơn giá bán hàng_売上単価', 'Sản lượng bán ra_売上金額',\n",
       "       'Ngày bán hàng_売上日', 'Tháng bán hàng_売上月', 'Năm bán hàng_売上年',\n",
       "       'Chi phí_経費', 'Ngày mua_仕入日', 'Tháng mua hàng_仕入月', 'Năm mua_仕入年',\n",
       "       'Chi tiết xếp hạng_ランク詳細', 'Số phiếu_伝票番号', 'Mã nhà cung cấp_仕入先コード',\n",
       "       'Số body_車体番号', 'CONTAINER_CONTAINER', 'Tên khách hàng_売上先名',\n",
       "       'Phân loại mang đến/đón_持込・引取区分', 'Tiền công_工賃', 'D/G_Ｄ／Ｇ',\n",
       "       'Phân loại bán hàng_売上分類', 'Đang tải nguồn_積込元'],\n",
       "      dtype='object')"
      ]
     },
     "execution_count": 6,
     "metadata": {},
     "output_type": "execute_result"
    }
   ],
   "source": [
    "df.columns"
   ]
  },
  {
   "cell_type": "code",
   "execution_count": 19,
   "id": "e9dfdafe",
   "metadata": {},
   "outputs": [],
   "source": [
    "df['date_time']  = df['Năm bán hàng_売上年'].astype(str) +'-'+df['Tháng bán hàng_売上月'].astype(str) "
   ]
  },
  {
   "cell_type": "code",
   "execution_count": 20,
   "id": "90dcb27a",
   "metadata": {},
   "outputs": [],
   "source": [
    "df_copy = df.copy()"
   ]
  },
  {
   "cell_type": "code",
   "execution_count": 21,
   "id": "bd313626",
   "metadata": {
    "scrolled": true
   },
   "outputs": [
    {
     "data": {
      "text/html": [
       "<div>\n",
       "<style scoped>\n",
       "    .dataframe tbody tr th:only-of-type {\n",
       "        vertical-align: middle;\n",
       "    }\n",
       "\n",
       "    .dataframe tbody tr th {\n",
       "        vertical-align: top;\n",
       "    }\n",
       "\n",
       "    .dataframe thead th {\n",
       "        text-align: right;\n",
       "    }\n",
       "</style>\n",
       "<table border=\"1\" class=\"dataframe\">\n",
       "  <thead>\n",
       "    <tr style=\"text-align: right;\">\n",
       "      <th></th>\n",
       "      <th>Vị trí_ロケーション</th>\n",
       "      <th>Ngày sản xuất_生産日</th>\n",
       "      <th>Tháng sản xuất_生産月</th>\n",
       "      <th>Năm sản xuất_生産年</th>\n",
       "      <th>Nv sản xuất_生産担当者</th>\n",
       "      <th>Số nhập kho_入庫番号</th>\n",
       "      <th>Nguồn nhập hàng_仕入先</th>\n",
       "      <th>Mã loại phụ tùng_商品コード</th>\n",
       "      <th>Tên phụ tùng_商品名</th>\n",
       "      <th>Số nhập kho(phụ tùng)_入庫番号 (部品)</th>\n",
       "      <th>...</th>\n",
       "      <th>Mã nhà cung cấp_仕入先コード</th>\n",
       "      <th>Số body_車体番号</th>\n",
       "      <th>CONTAINER_CONTAINER</th>\n",
       "      <th>Tên khách hàng_売上先名</th>\n",
       "      <th>Phân loại mang đến/đón_持込・引取区分</th>\n",
       "      <th>Tiền công_工賃</th>\n",
       "      <th>D/G_Ｄ／Ｇ</th>\n",
       "      <th>Phân loại bán hàng_売上分類</th>\n",
       "      <th>Đang tải nguồn_積込元</th>\n",
       "      <th>date_time</th>\n",
       "    </tr>\n",
       "  </thead>\n",
       "  <tbody>\n",
       "    <tr>\n",
       "      <th>0</th>\n",
       "      <td>会宝産業本社</td>\n",
       "      <td>17</td>\n",
       "      <td>11</td>\n",
       "      <td>2015</td>\n",
       "      <td>山下大輝</td>\n",
       "      <td>'0000000302676</td>\n",
       "      <td>西田 敏勝</td>\n",
       "      <td>'110010</td>\n",
       "      <td>ノーズカット（個別）</td>\n",
       "      <td>'0000007988203</td>\n",
       "      <td>...</td>\n",
       "      <td>990010.0</td>\n",
       "      <td>'1001019</td>\n",
       "      <td>NaN</td>\n",
       "      <td>一番オート   OOO \"LIGHT VL\"</td>\n",
       "      <td>NaN</td>\n",
       "      <td>0.0</td>\n",
       "      <td>G</td>\n",
       "      <td>NaN</td>\n",
       "      <td>会宝産業本社</td>\n",
       "      <td>2016-3</td>\n",
       "    </tr>\n",
       "    <tr>\n",
       "      <th>1</th>\n",
       "      <td>会宝産業本社</td>\n",
       "      <td>3</td>\n",
       "      <td>2</td>\n",
       "      <td>2015</td>\n",
       "      <td>中嶋　修</td>\n",
       "      <td>'0000000303771</td>\n",
       "      <td>ｴｻﾞｼ自動車</td>\n",
       "      <td>'100000</td>\n",
       "      <td>エンジン</td>\n",
       "      <td>'0000007739581</td>\n",
       "      <td>...</td>\n",
       "      <td>990000.0</td>\n",
       "      <td>'6062039</td>\n",
       "      <td>40HC</td>\n",
       "      <td>木戸クンク・ジャイブ（ＥＫ３）</td>\n",
       "      <td>NaN</td>\n",
       "      <td>0.0</td>\n",
       "      <td>G</td>\n",
       "      <td>NaN</td>\n",
       "      <td>会宝産業本社</td>\n",
       "      <td>2015-2</td>\n",
       "    </tr>\n",
       "    <tr>\n",
       "      <th>2</th>\n",
       "      <td>会宝産業本社</td>\n",
       "      <td>3</td>\n",
       "      <td>2</td>\n",
       "      <td>2015</td>\n",
       "      <td>楊　志毅</td>\n",
       "      <td>'0000000303771</td>\n",
       "      <td>ｴｻﾞｼ自動車</td>\n",
       "      <td>'110010</td>\n",
       "      <td>ノーズカット（個別）</td>\n",
       "      <td>'0000007712751</td>\n",
       "      <td>...</td>\n",
       "      <td>990000.0</td>\n",
       "      <td>'6062039</td>\n",
       "      <td>40HC</td>\n",
       "      <td>木戸クンク・ジャイブ（ＥＫ３）</td>\n",
       "      <td>NaN</td>\n",
       "      <td>0.0</td>\n",
       "      <td>G</td>\n",
       "      <td>NaN</td>\n",
       "      <td>会宝産業本社</td>\n",
       "      <td>2015-2</td>\n",
       "    </tr>\n",
       "    <tr>\n",
       "      <th>3</th>\n",
       "      <td>会宝産業本社</td>\n",
       "      <td>5</td>\n",
       "      <td>2</td>\n",
       "      <td>2015</td>\n",
       "      <td>西川航平</td>\n",
       "      <td>'0000000314958</td>\n",
       "      <td>ＪＵ石川</td>\n",
       "      <td>'110010</td>\n",
       "      <td>ノーズカット（個別）</td>\n",
       "      <td>'0000007732276</td>\n",
       "      <td>...</td>\n",
       "      <td>319800.0</td>\n",
       "      <td>'2010272</td>\n",
       "      <td>40HC</td>\n",
       "      <td>㈱パシフィック・トレーディング・インターナショナル</td>\n",
       "      <td>NaN</td>\n",
       "      <td>0.0</td>\n",
       "      <td>G</td>\n",
       "      <td>NaN</td>\n",
       "      <td>会宝産業本社</td>\n",
       "      <td>2015-2</td>\n",
       "    </tr>\n",
       "    <tr>\n",
       "      <th>4</th>\n",
       "      <td>会宝産業本社</td>\n",
       "      <td>25</td>\n",
       "      <td>2</td>\n",
       "      <td>2015</td>\n",
       "      <td>中里太明</td>\n",
       "      <td>'0000000319165</td>\n",
       "      <td>会宝パーツサービス㈲福井店　アップガレージ</td>\n",
       "      <td>'110010</td>\n",
       "      <td>ノーズカット（個別）</td>\n",
       "      <td>'0000007742703</td>\n",
       "      <td>...</td>\n",
       "      <td>208750.0</td>\n",
       "      <td>'072307</td>\n",
       "      <td>40HC</td>\n",
       "      <td>㈱パシフィック・トレーディング・インターナショナル</td>\n",
       "      <td>NaN</td>\n",
       "      <td>0.0</td>\n",
       "      <td>G</td>\n",
       "      <td>NaN</td>\n",
       "      <td>会宝産業本社</td>\n",
       "      <td>2015-3</td>\n",
       "    </tr>\n",
       "    <tr>\n",
       "      <th>...</th>\n",
       "      <td>...</td>\n",
       "      <td>...</td>\n",
       "      <td>...</td>\n",
       "      <td>...</td>\n",
       "      <td>...</td>\n",
       "      <td>...</td>\n",
       "      <td>...</td>\n",
       "      <td>...</td>\n",
       "      <td>...</td>\n",
       "      <td>...</td>\n",
       "      <td>...</td>\n",
       "      <td>...</td>\n",
       "      <td>...</td>\n",
       "      <td>...</td>\n",
       "      <td>...</td>\n",
       "      <td>...</td>\n",
       "      <td>...</td>\n",
       "      <td>...</td>\n",
       "      <td>...</td>\n",
       "      <td>...</td>\n",
       "      <td>...</td>\n",
       "    </tr>\n",
       "    <tr>\n",
       "      <th>20423</th>\n",
       "      <td>会宝産業本社</td>\n",
       "      <td>10</td>\n",
       "      <td>9</td>\n",
       "      <td>2012</td>\n",
       "      <td>中谷祐騎</td>\n",
       "      <td>'0000000297532</td>\n",
       "      <td>石川トヨタ本社</td>\n",
       "      <td>'110010</td>\n",
       "      <td>ノーズカット（個別）</td>\n",
       "      <td>'0000007022141</td>\n",
       "      <td>...</td>\n",
       "      <td>111300.0</td>\n",
       "      <td>'0113274</td>\n",
       "      <td>20</td>\n",
       "      <td>TTO Co., LTD</td>\n",
       "      <td>NaN</td>\n",
       "      <td>0.0</td>\n",
       "      <td>G</td>\n",
       "      <td>NaN</td>\n",
       "      <td>会宝産業本社</td>\n",
       "      <td>2012-9</td>\n",
       "    </tr>\n",
       "    <tr>\n",
       "      <th>20424</th>\n",
       "      <td>会宝産業本社</td>\n",
       "      <td>27</td>\n",
       "      <td>8</td>\n",
       "      <td>2012</td>\n",
       "      <td>坂尻僚平</td>\n",
       "      <td>'0000000297920</td>\n",
       "      <td>ＪＵ石川</td>\n",
       "      <td>'140092</td>\n",
       "      <td>Ｆアクスル（生/Ｄ）</td>\n",
       "      <td>'0000007052516</td>\n",
       "      <td>...</td>\n",
       "      <td>319800.0</td>\n",
       "      <td>'0020874</td>\n",
       "      <td>20</td>\n",
       "      <td>FADEEV EVGENY</td>\n",
       "      <td>NaN</td>\n",
       "      <td>0.0</td>\n",
       "      <td>D</td>\n",
       "      <td>NaN</td>\n",
       "      <td>会宝産業本社</td>\n",
       "      <td>2012-9</td>\n",
       "    </tr>\n",
       "    <tr>\n",
       "      <th>20425</th>\n",
       "      <td>会宝産業本社</td>\n",
       "      <td>23</td>\n",
       "      <td>8</td>\n",
       "      <td>2012</td>\n",
       "      <td>菊池忠義</td>\n",
       "      <td>'0000000298205</td>\n",
       "      <td>西村 信與</td>\n",
       "      <td>'140092</td>\n",
       "      <td>Ｆアクスル（生/Ｄ）</td>\n",
       "      <td>'0000005002723</td>\n",
       "      <td>...</td>\n",
       "      <td>990010.0</td>\n",
       "      <td>'101069</td>\n",
       "      <td>20</td>\n",
       "      <td>FADEEV EVGENY</td>\n",
       "      <td>NaN</td>\n",
       "      <td>0.0</td>\n",
       "      <td>D</td>\n",
       "      <td>NaN</td>\n",
       "      <td>会宝産業本社</td>\n",
       "      <td>2012-9</td>\n",
       "    </tr>\n",
       "    <tr>\n",
       "      <th>20426</th>\n",
       "      <td>会宝産業本社</td>\n",
       "      <td>6</td>\n",
       "      <td>11</td>\n",
       "      <td>2012</td>\n",
       "      <td>坂尻僚平</td>\n",
       "      <td>'0000000300843</td>\n",
       "      <td>エステート</td>\n",
       "      <td>'140153</td>\n",
       "      <td>Ｒアクスル（生/Ｄ）</td>\n",
       "      <td>'0000007076751</td>\n",
       "      <td>...</td>\n",
       "      <td>135300.0</td>\n",
       "      <td>'0010109</td>\n",
       "      <td>20</td>\n",
       "      <td>FADEEV EVGENY</td>\n",
       "      <td>NaN</td>\n",
       "      <td>0.0</td>\n",
       "      <td>D</td>\n",
       "      <td>NaN</td>\n",
       "      <td>会宝産業本社</td>\n",
       "      <td>2012-11</td>\n",
       "    </tr>\n",
       "    <tr>\n",
       "      <th>20427</th>\n",
       "      <td>会宝産業本社</td>\n",
       "      <td>4</td>\n",
       "      <td>12</td>\n",
       "      <td>2012</td>\n",
       "      <td>菊池忠義</td>\n",
       "      <td>'0000000303083</td>\n",
       "      <td>石川県消防学校運営協議会</td>\n",
       "      <td>'140153</td>\n",
       "      <td>Ｒアクスル（生/Ｄ）</td>\n",
       "      <td>'0000007131858</td>\n",
       "      <td>...</td>\n",
       "      <td>110700.0</td>\n",
       "      <td>'1000906</td>\n",
       "      <td>20</td>\n",
       "      <td>FADEEV EVGENY</td>\n",
       "      <td>NaN</td>\n",
       "      <td>0.0</td>\n",
       "      <td>D</td>\n",
       "      <td>NaN</td>\n",
       "      <td>会宝産業本社</td>\n",
       "      <td>2012-12</td>\n",
       "    </tr>\n",
       "  </tbody>\n",
       "</table>\n",
       "<p>20428 rows × 60 columns</p>\n",
       "</div>"
      ],
      "text/plain": [
       "      Vị trí_ロケーション  Ngày sản xuất_生産日  Tháng sản xuất_生産月  Năm sản xuất_生産年  \\\n",
       "0            会宝産業本社                 17                  11              2015   \n",
       "1            会宝産業本社                  3                   2              2015   \n",
       "2            会宝産業本社                  3                   2              2015   \n",
       "3            会宝産業本社                  5                   2              2015   \n",
       "4            会宝産業本社                 25                   2              2015   \n",
       "...             ...                ...                 ...               ...   \n",
       "20423        会宝産業本社                 10                   9              2012   \n",
       "20424        会宝産業本社                 27                   8              2012   \n",
       "20425        会宝産業本社                 23                   8              2012   \n",
       "20426        会宝産業本社                  6                  11              2012   \n",
       "20427        会宝産業本社                  4                  12              2012   \n",
       "\n",
       "      Nv sản xuất_生産担当者 Số nhập kho_入庫番号    Nguồn nhập hàng_仕入先  \\\n",
       "0                  山下大輝   '0000000302676                  西田 敏勝   \n",
       "1                  中嶋　修   '0000000303771                ｴｻﾞｼ自動車   \n",
       "2                  楊　志毅   '0000000303771                ｴｻﾞｼ自動車   \n",
       "3                  西川航平   '0000000314958                   ＪＵ石川   \n",
       "4                  中里太明   '0000000319165  会宝パーツサービス㈲福井店　アップガレージ   \n",
       "...                 ...              ...                    ...   \n",
       "20423              中谷祐騎   '0000000297532                石川トヨタ本社   \n",
       "20424              坂尻僚平   '0000000297920                   ＪＵ石川   \n",
       "20425              菊池忠義   '0000000298205                  西村 信與   \n",
       "20426              坂尻僚平   '0000000300843                  エステート   \n",
       "20427              菊池忠義   '0000000303083           石川県消防学校運営協議会   \n",
       "\n",
       "      Mã loại phụ tùng_商品コード Tên phụ tùng_商品名 Số nhập kho(phụ tùng)_入庫番号 (部品)  \\\n",
       "0                    '110010       ノーズカット（個別）                  '0000007988203   \n",
       "1                    '100000             エンジン                  '0000007739581   \n",
       "2                    '110010       ノーズカット（個別）                  '0000007712751   \n",
       "3                    '110010       ノーズカット（個別）                  '0000007732276   \n",
       "4                    '110010       ノーズカット（個別）                  '0000007742703   \n",
       "...                      ...              ...                             ...   \n",
       "20423                '110010       ノーズカット（個別）                  '0000007022141   \n",
       "20424                '140092       Ｆアクスル（生/Ｄ）                  '0000007052516   \n",
       "20425                '140092       Ｆアクスル（生/Ｄ）                  '0000005002723   \n",
       "20426                '140153       Ｒアクスル（生/Ｄ）                  '0000007076751   \n",
       "20427                '140153       Ｒアクスル（生/Ｄ）                  '0000007131858   \n",
       "\n",
       "       ... Mã nhà cung cấp_仕入先コード Số body_車体番号 CONTAINER_CONTAINER  \\\n",
       "0      ...               990010.0     '1001019                 NaN   \n",
       "1      ...               990000.0     '6062039                40HC   \n",
       "2      ...               990000.0     '6062039                40HC   \n",
       "3      ...               319800.0     '2010272                40HC   \n",
       "4      ...               208750.0      '072307                40HC   \n",
       "...    ...                    ...          ...                 ...   \n",
       "20423  ...               111300.0     '0113274                  20   \n",
       "20424  ...               319800.0     '0020874                  20   \n",
       "20425  ...               990010.0      '101069                  20   \n",
       "20426  ...               135300.0     '0010109                  20   \n",
       "20427  ...               110700.0     '1000906                  20   \n",
       "\n",
       "             Tên khách hàng_売上先名  Phân loại mang đến/đón_持込・引取区分  \\\n",
       "0         一番オート   OOO \"LIGHT VL\"                             NaN   \n",
       "1                木戸クンク・ジャイブ（ＥＫ３）                             NaN   \n",
       "2                木戸クンク・ジャイブ（ＥＫ３）                             NaN   \n",
       "3      ㈱パシフィック・トレーディング・インターナショナル                             NaN   \n",
       "4      ㈱パシフィック・トレーディング・インターナショナル                             NaN   \n",
       "...                          ...                             ...   \n",
       "20423               TTO Co., LTD                             NaN   \n",
       "20424              FADEEV EVGENY                             NaN   \n",
       "20425              FADEEV EVGENY                             NaN   \n",
       "20426              FADEEV EVGENY                             NaN   \n",
       "20427              FADEEV EVGENY                             NaN   \n",
       "\n",
       "       Tiền công_工賃  D/G_Ｄ／Ｇ Phân loại bán hàng_売上分類  Đang tải nguồn_積込元  \\\n",
       "0               0.0        G                     NaN              会宝産業本社   \n",
       "1               0.0        G                     NaN              会宝産業本社   \n",
       "2               0.0        G                     NaN              会宝産業本社   \n",
       "3               0.0        G                     NaN              会宝産業本社   \n",
       "4               0.0        G                     NaN              会宝産業本社   \n",
       "...             ...      ...                     ...                 ...   \n",
       "20423           0.0        G                     NaN              会宝産業本社   \n",
       "20424           0.0        D                     NaN              会宝産業本社   \n",
       "20425           0.0        D                     NaN              会宝産業本社   \n",
       "20426           0.0        D                     NaN              会宝産業本社   \n",
       "20427           0.0        D                     NaN              会宝産業本社   \n",
       "\n",
       "       date_time  \n",
       "0         2016-3  \n",
       "1         2015-2  \n",
       "2         2015-2  \n",
       "3         2015-2  \n",
       "4         2015-3  \n",
       "...          ...  \n",
       "20423     2012-9  \n",
       "20424     2012-9  \n",
       "20425     2012-9  \n",
       "20426    2012-11  \n",
       "20427    2012-12  \n",
       "\n",
       "[20428 rows x 60 columns]"
      ]
     },
     "execution_count": 21,
     "metadata": {},
     "output_type": "execute_result"
    }
   ],
   "source": [
    "df_copy"
   ]
  },
  {
   "cell_type": "code",
   "execution_count": 268,
   "id": "5f802d2a",
   "metadata": {
    "scrolled": true
   },
   "outputs": [],
   "source": [
    "scale = le.fit_transform(df_copy['date_time'])"
   ]
  },
  {
   "cell_type": "code",
   "execution_count": 269,
   "id": "13cd3e77",
   "metadata": {},
   "outputs": [
    {
     "data": {
      "text/plain": [
       "array([87, 74, 74, ..., 45, 36, 37])"
      ]
     },
     "execution_count": 269,
     "metadata": {},
     "output_type": "execute_result"
    }
   ],
   "source": [
    "scale"
   ]
  },
  {
   "cell_type": "code",
   "execution_count": 262,
   "id": "5e38d8f4",
   "metadata": {},
   "outputs": [
    {
     "data": {
      "text/plain": [
       "(20428, 60)"
      ]
     },
     "execution_count": 262,
     "metadata": {},
     "output_type": "execute_result"
    }
   ],
   "source": [
    "df_copy.shape"
   ]
  },
  {
   "cell_type": "code",
   "execution_count": 263,
   "id": "17478bb8",
   "metadata": {},
   "outputs": [
    {
     "data": {
      "text/plain": [
       "(3, 2)"
      ]
     },
     "execution_count": 263,
     "metadata": {},
     "output_type": "execute_result"
    }
   ],
   "source": [
    "data.shape"
   ]
  },
  {
   "cell_type": "code",
   "execution_count": null,
   "id": "df5e9e1e",
   "metadata": {},
   "outputs": [],
   "source": []
  },
  {
   "cell_type": "code",
   "execution_count": 385,
   "id": "3edbace1",
   "metadata": {},
   "outputs": [],
   "source": [
    "list_feature = [\n",
    "                'Tên phụ tùng_商品名',\n",
    "#                 'Tên xe_車名',\n",
    "                'Model xe_車輌型式',\n",
    "                'Engine model_エンジン型式',\n",
    "                'Thành tích bán ra_販売実績'\n",
    "#                 'date_time',\n",
    "#                'D/G_Ｄ／Ｇ',\n",
    "#                'Loại xe_車種'\n",
    "               ]"
   ]
  },
  {
   "cell_type": "code",
   "execution_count": 386,
   "id": "bfd67b03",
   "metadata": {},
   "outputs": [],
   "source": [
    "# df_group_month = df_copy.groupby(list_feature).agg(revenue = ('Thành tích bán ra_販売実績','sum')).reset_index()\n",
    "df_group_month = df_copy[list_feature]"
   ]
  },
  {
   "cell_type": "code",
   "execution_count": 387,
   "id": "67f64f02",
   "metadata": {
    "scrolled": true
   },
   "outputs": [],
   "source": [
    "# df_group_month = df_group_month.sort_values(by=['date_time'])\n",
    "# df_group_month"
   ]
  },
  {
   "cell_type": "code",
   "execution_count": 388,
   "id": "bef5f92e",
   "metadata": {},
   "outputs": [
    {
     "name": "stdout",
     "output_type": "stream",
     "text": [
      "Tên phụ tùng_商品名 12\n",
      "Model xe_車輌型式 1587\n",
      "Engine model_エンジン型式 536\n"
     ]
    }
   ],
   "source": [
    "for col in df_group_month.columns[df_group_month.dtypes == object]:\n",
    "    print(col, df_group_month[col].nunique())\n",
    "    df_group_month[col] = df_group_month[col].fillna(\"unknown\")\n",
    "    df_group_month[col] = le.fit_transform(df_group_month[col].values)\n",
    "\n",
    "for col in df_group_month.columns[df_group_month.dtypes == 'float64']:\n",
    "    df_group_month.fillna(df_group_month[col].mean(), inplace=True)"
   ]
  },
  {
   "cell_type": "code",
   "execution_count": 389,
   "id": "91a0e132",
   "metadata": {
    "scrolled": true
   },
   "outputs": [],
   "source": [
    "# df_group_month.date_time.unique()"
   ]
  },
  {
   "cell_type": "markdown",
   "id": "ddb0d43a",
   "metadata": {},
   "source": [
    "# Without Scaler"
   ]
  },
  {
   "cell_type": "code",
   "execution_count": 390,
   "id": "e9ca878c",
   "metadata": {},
   "outputs": [],
   "source": [
    "target = df_group_month['Thành tích bán ra_販売実績']"
   ]
  },
  {
   "cell_type": "code",
   "execution_count": 391,
   "id": "16ec4f83",
   "metadata": {},
   "outputs": [],
   "source": [
    "data = df_group_month.drop(columns=['Thành tích bán ra_販売実績'])"
   ]
  },
  {
   "cell_type": "code",
   "execution_count": 392,
   "id": "448ca92d",
   "metadata": {},
   "outputs": [],
   "source": [
    "X_train, X_test, y_train, y_test =  train_test_split(data, target, test_size= 0.3, random_state=42)"
   ]
  },
  {
   "cell_type": "code",
   "execution_count": 393,
   "id": "43146de2",
   "metadata": {},
   "outputs": [
    {
     "name": "stdout",
     "output_type": "stream",
     "text": [
      "30.063388062000868\n",
      "29.51835883152997\n",
      "16.87972000195691\n",
      "16.782006570232518\n",
      "20.716877942046718\n",
      "21.445891887174398\n"
     ]
    }
   ],
   "source": [
    "rmse = []\n",
    "mape = []\n",
    "r_squared = []\n",
    "for  model in models:\n",
    "    model.fit(X_train, y_train)\n",
    "    y_pred  = model.predict(X_test)\n",
    "#     print(y_pred)\n",
    "    rmse_score = mean_squared_error(y_test, y_pred,squared=False)\n",
    "    mape_score = np.mean(np.abs((y_test - y_pred)/y_test)*100)\n",
    "    print(mape_score)\n",
    "#     mape_score = mean_absolute_percentage_error(y_test,y_pred)\n",
    "    r_squared_score  = model.score(X_test,y_test)\n",
    "    r_squared.append(r_squared_score)\n",
    "    rmse.append(rmse_score)\n",
    "    mape.append(mape_score)"
   ]
  },
  {
   "cell_type": "code",
   "execution_count": null,
   "id": "66daae31",
   "metadata": {},
   "outputs": [],
   "source": []
  },
  {
   "cell_type": "code",
   "execution_count": 134,
   "id": "3f199f28",
   "metadata": {},
   "outputs": [
    {
     "data": {
      "text/plain": [
       "(5029,)"
      ]
     },
     "execution_count": 134,
     "metadata": {},
     "output_type": "execute_result"
    }
   ],
   "source": [
    "(y_test - y_pred).shape"
   ]
  },
  {
   "cell_type": "markdown",
   "id": "b244fe68",
   "metadata": {},
   "source": [
    "# With Scaler"
   ]
  },
  {
   "cell_type": "code",
   "execution_count": 394,
   "id": "d9442051",
   "metadata": {},
   "outputs": [],
   "source": [
    "df_scale = pd.DataFrame(ss.fit_transform(df_group_month),columns=df_group_month.columns)"
   ]
  },
  {
   "cell_type": "code",
   "execution_count": 395,
   "id": "197917de",
   "metadata": {},
   "outputs": [],
   "source": [
    "target_scaler = df_scale['Thành tích bán ra_販売実績']"
   ]
  },
  {
   "cell_type": "code",
   "execution_count": 396,
   "id": "00f68451",
   "metadata": {},
   "outputs": [
    {
     "data": {
      "text/plain": [
       "0       -0.697563\n",
       "1       -0.200797\n",
       "2       -0.752760\n",
       "3       -0.697563\n",
       "4       -0.752760\n",
       "           ...   \n",
       "20423   -0.697563\n",
       "20424   -0.932148\n",
       "20425   -0.932148\n",
       "20426   -0.890750\n",
       "20427   -0.890750\n",
       "Name: Thành tích bán ra_販売実績, Length: 20428, dtype: float64"
      ]
     },
     "execution_count": 396,
     "metadata": {},
     "output_type": "execute_result"
    }
   ],
   "source": [
    "target_scaler"
   ]
  },
  {
   "cell_type": "code",
   "execution_count": 397,
   "id": "69e7d7de",
   "metadata": {},
   "outputs": [],
   "source": [
    "data = df_scale.drop(columns=['Thành tích bán ra_販売実績'])"
   ]
  },
  {
   "cell_type": "code",
   "execution_count": 398,
   "id": "487673df",
   "metadata": {},
   "outputs": [],
   "source": [
    "X_train, X_test, y_train, y_test =  train_test_split(data, target, test_size= 0.3, random_state=42)"
   ]
  },
  {
   "cell_type": "code",
   "execution_count": 399,
   "id": "4a7f942f",
   "metadata": {},
   "outputs": [
    {
     "data": {
      "text/plain": [
       "11876     35000.0\n",
       "6735      20000.0\n",
       "12902     30000.0\n",
       "19893     42000.0\n",
       "20269     10000.0\n",
       "           ...   \n",
       "17288     30000.0\n",
       "16615     25000.0\n",
       "7638     100000.0\n",
       "8361     180000.0\n",
       "15451      8000.0\n",
       "Name: Thành tích bán ra_販売実績, Length: 6129, dtype: float64"
      ]
     },
     "execution_count": 399,
     "metadata": {},
     "output_type": "execute_result"
    }
   ],
   "source": [
    "y_test"
   ]
  },
  {
   "cell_type": "code",
   "execution_count": 400,
   "id": "61a70475",
   "metadata": {},
   "outputs": [
    {
     "data": {
      "text/plain": [
       "array([ 37889.1083147 ,  23307.18289944,  37737.90405802, ...,\n",
       "       139063.31555807, 126280.83128107,   8815.57666608])"
      ]
     },
     "execution_count": 400,
     "metadata": {},
     "output_type": "execute_result"
    }
   ],
   "source": [
    "y_pred"
   ]
  },
  {
   "cell_type": "code",
   "execution_count": 401,
   "id": "c5d2863c",
   "metadata": {},
   "outputs": [
    {
     "name": "stdout",
     "output_type": "stream",
     "text": [
      "30.013371487088097\n",
      "29.51217812572254\n",
      "16.887852362428855\n",
      "16.739483375273572\n",
      "20.73886563880307\n",
      "21.627152411092542\n"
     ]
    }
   ],
   "source": [
    "rmse = []\n",
    "mape = []\n",
    "r_squared = []\n",
    "for  model in models:\n",
    "    model.fit(X_train, y_train)\n",
    "    y_pred  = model.predict(X_test)\n",
    "#     print(y_pred)\n",
    "    rmse_score = mean_squared_error(y_test, y_pred,squared=False)\n",
    "    mape_score = np.mean(np.abs((y_test - y_pred)/y_test)*100)\n",
    "    print(mape_score)\n",
    "#     mape_score = mean_absolute_percentage_error(y_test,y_pred)\n",
    "    r_squared_score  = model.score(X_test,y_test)\n",
    "    r_squared.append(r_squared_score)\n",
    "    rmse.append(rmse_score)\n",
    "    mape.append(mape_score)"
   ]
  },
  {
   "cell_type": "code",
   "execution_count": 218,
   "id": "a02c5c24",
   "metadata": {},
   "outputs": [
    {
     "data": {
      "text/plain": [
       "(5329,)"
      ]
     },
     "execution_count": 218,
     "metadata": {},
     "output_type": "execute_result"
    }
   ],
   "source": [
    "(y_test - y_pred).shape"
   ]
  },
  {
   "cell_type": "code",
   "execution_count": 219,
   "id": "07fbbf5a",
   "metadata": {},
   "outputs": [
    {
     "data": {
      "text/html": [
       "<div>\n",
       "<style scoped>\n",
       "    .dataframe tbody tr th:only-of-type {\n",
       "        vertical-align: middle;\n",
       "    }\n",
       "\n",
       "    .dataframe tbody tr th {\n",
       "        vertical-align: top;\n",
       "    }\n",
       "\n",
       "    .dataframe thead th {\n",
       "        text-align: right;\n",
       "    }\n",
       "</style>\n",
       "<table border=\"1\" class=\"dataframe\">\n",
       "  <thead>\n",
       "    <tr style=\"text-align: right;\">\n",
       "      <th></th>\n",
       "      <th>MODELS</th>\n",
       "      <th>R_SQUARED</th>\n",
       "      <th>RMSE</th>\n",
       "      <th>MAPE</th>\n",
       "    </tr>\n",
       "  </thead>\n",
       "  <tbody>\n",
       "    <tr>\n",
       "      <th>0</th>\n",
       "      <td>Gradient_Boosting</td>\n",
       "      <td>0.823</td>\n",
       "      <td>18027.637</td>\n",
       "      <td>20.139</td>\n",
       "    </tr>\n",
       "    <tr>\n",
       "      <th>1</th>\n",
       "      <td>Decision_Tree</td>\n",
       "      <td>0.814</td>\n",
       "      <td>18492.234</td>\n",
       "      <td>20.685</td>\n",
       "    </tr>\n",
       "    <tr>\n",
       "      <th>2</th>\n",
       "      <td>Extra_Trees</td>\n",
       "      <td>0.741</td>\n",
       "      <td>21805.979</td>\n",
       "      <td>20.183</td>\n",
       "    </tr>\n",
       "    <tr>\n",
       "      <th>3</th>\n",
       "      <td>Random_Forest</td>\n",
       "      <td>0.780</td>\n",
       "      <td>20088.236</td>\n",
       "      <td>20.402</td>\n",
       "    </tr>\n",
       "    <tr>\n",
       "      <th>4</th>\n",
       "      <td>XGBoost</td>\n",
       "      <td>0.797</td>\n",
       "      <td>19332.064</td>\n",
       "      <td>21.030</td>\n",
       "    </tr>\n",
       "    <tr>\n",
       "      <th>5</th>\n",
       "      <td>LGBMRegressor</td>\n",
       "      <td>0.819</td>\n",
       "      <td>18249.618</td>\n",
       "      <td>19.388</td>\n",
       "    </tr>\n",
       "  </tbody>\n",
       "</table>\n",
       "</div>"
      ],
      "text/plain": [
       "              MODELS  R_SQUARED       RMSE    MAPE\n",
       "0  Gradient_Boosting      0.823  18027.637  20.139\n",
       "1      Decision_Tree      0.814  18492.234  20.685\n",
       "2        Extra_Trees      0.741  21805.979  20.183\n",
       "3      Random_Forest      0.780  20088.236  20.402\n",
       "4            XGBoost      0.797  19332.064  21.030\n",
       "5      LGBMRegressor      0.819  18249.618  19.388"
      ]
     },
     "execution_count": 219,
     "metadata": {},
     "output_type": "execute_result"
    }
   ],
   "source": [
    "df_score = pd.DataFrame()\n",
    "df_score['MODELS'] = names\n",
    "df_score['R_SQUARED'] = r_squared\n",
    "df_score['RMSE'] = rmse\n",
    "df_score['MAPE'] = mape\n",
    "df_score['RMSE'] = round(df_score['RMSE'],3)\n",
    "df_score['MAPE'] = round(df_score['MAPE'],3)\n",
    "df_score['R_SQUARED'] = round(df_score['R_SQUARED'],3)\n",
    "\n",
    "df_score"
   ]
  },
  {
   "cell_type": "code",
   "execution_count": 220,
   "id": "0c4535c8",
   "metadata": {},
   "outputs": [
    {
     "data": {
      "text/plain": [
       "array([87565.98177763, 90488.39485411, 83054.88794164, ...,\n",
       "       28129.22654704, 10445.3873728 , 44312.15762412])"
      ]
     },
     "execution_count": 220,
     "metadata": {},
     "output_type": "execute_result"
    }
   ],
   "source": [
    "y_pred"
   ]
  },
  {
   "cell_type": "code",
   "execution_count": 221,
   "id": "974dc1a4",
   "metadata": {},
   "outputs": [
    {
     "data": {
      "text/plain": [
       "array([3.77504654e+09, 3.90103291e+09, 3.58057152e+09, ...,\n",
       "       1.21270480e+09, 4.50347589e+08, 1.91035729e+09])"
      ]
     },
     "execution_count": 221,
     "metadata": {},
     "output_type": "execute_result"
    }
   ],
   "source": [
    "target_scaled = ss.fit_transform(df_group_month[['revenue']])\n",
    "l = ss.inverse_transform(y_pred)\n",
    "l"
   ]
  },
  {
   "cell_type": "code",
   "execution_count": 222,
   "id": "4ce84ff7",
   "metadata": {},
   "outputs": [
    {
     "data": {
      "text/plain": [
       "array([3.87997802e+09, 3.87997802e+09, 3.23332216e+09, ...,\n",
       "       1.07780263e+09, 4.31146765e+08, 1.72445849e+09])"
      ]
     },
     "execution_count": 222,
     "metadata": {},
     "output_type": "execute_result"
    }
   ],
   "source": [
    "k = ss.inverse_transform(y_test)\n",
    "k"
   ]
  },
  {
   "cell_type": "code",
   "execution_count": 223,
   "id": "8d149214",
   "metadata": {},
   "outputs": [
    {
     "data": {
      "text/plain": [
       "786748157.4494454"
      ]
     },
     "execution_count": 223,
     "metadata": {},
     "output_type": "execute_result"
    }
   ],
   "source": [
    "mean_squared_error(l,k,squared= False)"
   ]
  },
  {
   "cell_type": "code",
   "execution_count": 224,
   "id": "3b00580f",
   "metadata": {},
   "outputs": [],
   "source": [
    "model  = XGBRegressor()"
   ]
  },
  {
   "cell_type": "code",
   "execution_count": 225,
   "id": "1a3da128",
   "metadata": {},
   "outputs": [
    {
     "data": {
      "text/plain": [
       "XGBRegressor(base_score=0.5, booster='gbtree', colsample_bylevel=1,\n",
       "             colsample_bynode=1, colsample_bytree=1, enable_categorical=False,\n",
       "             gamma=0, gpu_id=-1, importance_type=None,\n",
       "             interaction_constraints='', learning_rate=0.300000012,\n",
       "             max_delta_step=0, max_depth=6, min_child_weight=1, missing=nan,\n",
       "             monotone_constraints='()', n_estimators=100, n_jobs=12,\n",
       "             num_parallel_tree=1, predictor='auto', random_state=0, reg_alpha=0,\n",
       "             reg_lambda=1, scale_pos_weight=1, subsample=1, tree_method='exact',\n",
       "             validate_parameters=1, verbosity=None)"
      ]
     },
     "execution_count": 225,
     "metadata": {},
     "output_type": "execute_result"
    }
   ],
   "source": [
    "model.fit(X_train,y_train)"
   ]
  },
  {
   "cell_type": "code",
   "execution_count": 226,
   "id": "1eee0b9c",
   "metadata": {},
   "outputs": [
    {
     "data": {
      "text/html": [
       "<div>\n",
       "<style scoped>\n",
       "    .dataframe tbody tr th:only-of-type {\n",
       "        vertical-align: middle;\n",
       "    }\n",
       "\n",
       "    .dataframe tbody tr th {\n",
       "        vertical-align: top;\n",
       "    }\n",
       "\n",
       "    .dataframe thead th {\n",
       "        text-align: right;\n",
       "    }\n",
       "</style>\n",
       "<table border=\"1\" class=\"dataframe\">\n",
       "  <thead>\n",
       "    <tr style=\"text-align: right;\">\n",
       "      <th></th>\n",
       "      <th>Tên phụ tùng_商品名</th>\n",
       "      <th>Tên xe_車名</th>\n",
       "      <th>Model xe_車輌型式</th>\n",
       "      <th>Engine model_エンジン型式</th>\n",
       "      <th>Đơn giá bán hàng_売上単価</th>\n",
       "      <th>date_time</th>\n",
       "    </tr>\n",
       "  </thead>\n",
       "  <tbody>\n",
       "    <tr>\n",
       "      <th>15277</th>\n",
       "      <td>-0.410486</td>\n",
       "      <td>-1.056367</td>\n",
       "      <td>-1.102525</td>\n",
       "      <td>-1.105632</td>\n",
       "      <td>1.370901</td>\n",
       "      <td>1.223949</td>\n",
       "    </tr>\n",
       "    <tr>\n",
       "      <th>6444</th>\n",
       "      <td>2.703361</td>\n",
       "      <td>-1.160204</td>\n",
       "      <td>0.388760</td>\n",
       "      <td>-1.175921</td>\n",
       "      <td>1.370901</td>\n",
       "      <td>-0.506360</td>\n",
       "    </tr>\n",
       "    <tr>\n",
       "      <th>10085</th>\n",
       "      <td>-0.410486</td>\n",
       "      <td>-1.104292</td>\n",
       "      <td>1.318080</td>\n",
       "      <td>-0.837257</td>\n",
       "      <td>0.974679</td>\n",
       "      <td>0.223614</td>\n",
       "    </tr>\n",
       "    <tr>\n",
       "      <th>11011</th>\n",
       "      <td>-0.410486</td>\n",
       "      <td>-0.121832</td>\n",
       "      <td>-0.109793</td>\n",
       "      <td>-1.073682</td>\n",
       "      <td>-0.213985</td>\n",
       "      <td>0.412867</td>\n",
       "    </tr>\n",
       "    <tr>\n",
       "      <th>5155</th>\n",
       "      <td>-0.410486</td>\n",
       "      <td>-1.855115</td>\n",
       "      <td>0.119804</td>\n",
       "      <td>0.562129</td>\n",
       "      <td>-0.213985</td>\n",
       "      <td>-0.695612</td>\n",
       "    </tr>\n",
       "    <tr>\n",
       "      <th>...</th>\n",
       "      <td>...</td>\n",
       "      <td>...</td>\n",
       "      <td>...</td>\n",
       "      <td>...</td>\n",
       "      <td>...</td>\n",
       "      <td>...</td>\n",
       "    </tr>\n",
       "    <tr>\n",
       "      <th>6186</th>\n",
       "      <td>-0.410486</td>\n",
       "      <td>-1.024417</td>\n",
       "      <td>-1.323375</td>\n",
       "      <td>0.376823</td>\n",
       "      <td>-0.213985</td>\n",
       "      <td>-0.533396</td>\n",
       "    </tr>\n",
       "    <tr>\n",
       "      <th>12400</th>\n",
       "      <td>-0.410486</td>\n",
       "      <td>0.621004</td>\n",
       "      <td>-0.934154</td>\n",
       "      <td>2.095703</td>\n",
       "      <td>-0.213985</td>\n",
       "      <td>0.656191</td>\n",
       "    </tr>\n",
       "    <tr>\n",
       "      <th>14071</th>\n",
       "      <td>-0.410486</td>\n",
       "      <td>0.405342</td>\n",
       "      <td>0.570251</td>\n",
       "      <td>1.533393</td>\n",
       "      <td>-0.346059</td>\n",
       "      <td>0.980624</td>\n",
       "    </tr>\n",
       "    <tr>\n",
       "      <th>8395</th>\n",
       "      <td>-0.021255</td>\n",
       "      <td>-0.145795</td>\n",
       "      <td>1.759780</td>\n",
       "      <td>0.798555</td>\n",
       "      <td>-0.742280</td>\n",
       "      <td>-0.181927</td>\n",
       "    </tr>\n",
       "    <tr>\n",
       "      <th>11557</th>\n",
       "      <td>-0.410486</td>\n",
       "      <td>-1.024417</td>\n",
       "      <td>-1.281829</td>\n",
       "      <td>0.370433</td>\n",
       "      <td>0.050163</td>\n",
       "      <td>0.521011</td>\n",
       "    </tr>\n",
       "  </tbody>\n",
       "</table>\n",
       "<p>5329 rows × 6 columns</p>\n",
       "</div>"
      ],
      "text/plain": [
       "       Tên phụ tùng_商品名  Tên xe_車名  Model xe_車輌型式  Engine model_エンジン型式  \\\n",
       "15277         -0.410486  -1.056367      -1.102525            -1.105632   \n",
       "6444           2.703361  -1.160204       0.388760            -1.175921   \n",
       "10085         -0.410486  -1.104292       1.318080            -0.837257   \n",
       "11011         -0.410486  -0.121832      -0.109793            -1.073682   \n",
       "5155          -0.410486  -1.855115       0.119804             0.562129   \n",
       "...                 ...        ...            ...                  ...   \n",
       "6186          -0.410486  -1.024417      -1.323375             0.376823   \n",
       "12400         -0.410486   0.621004      -0.934154             2.095703   \n",
       "14071         -0.410486   0.405342       0.570251             1.533393   \n",
       "8395          -0.021255  -0.145795       1.759780             0.798555   \n",
       "11557         -0.410486  -1.024417      -1.281829             0.370433   \n",
       "\n",
       "       Đơn giá bán hàng_売上単価  date_time  \n",
       "15277               1.370901   1.223949  \n",
       "6444                1.370901  -0.506360  \n",
       "10085               0.974679   0.223614  \n",
       "11011              -0.213985   0.412867  \n",
       "5155               -0.213985  -0.695612  \n",
       "...                      ...        ...  \n",
       "6186               -0.213985  -0.533396  \n",
       "12400              -0.213985   0.656191  \n",
       "14071              -0.346059   0.980624  \n",
       "8395               -0.742280  -0.181927  \n",
       "11557               0.050163   0.521011  \n",
       "\n",
       "[5329 rows x 6 columns]"
      ]
     },
     "execution_count": 226,
     "metadata": {},
     "output_type": "execute_result"
    }
   ],
   "source": [
    "X_test"
   ]
  },
  {
   "cell_type": "code",
   "execution_count": 227,
   "id": "e99da2f1",
   "metadata": {},
   "outputs": [],
   "source": [
    "y_pred = model.predict(X_test)"
   ]
  },
  {
   "cell_type": "code",
   "execution_count": 228,
   "id": "6c1a88de",
   "metadata": {},
   "outputs": [
    {
     "data": {
      "text/plain": [
       "0.2102952441410314"
      ]
     },
     "execution_count": 228,
     "metadata": {},
     "output_type": "execute_result"
    }
   ],
   "source": [
    "mean_absolute_percentage_error(y_test,y_pred)"
   ]
  },
  {
   "cell_type": "code",
   "execution_count": 259,
   "id": "d3d00446",
   "metadata": {},
   "outputs": [
    {
     "ename": "ValueError",
     "evalue": "y should be a 1d array, got an array of shape (3, 2) instead.",
     "output_type": "error",
     "traceback": [
      "\u001b[1;31m---------------------------------------------------------------------------\u001b[0m",
      "\u001b[1;31mValueError\u001b[0m                                Traceback (most recent call last)",
      "\u001b[1;32m<ipython-input-259-6be60b0497a8>\u001b[0m in \u001b[0;36m<module>\u001b[1;34m\u001b[0m\n\u001b[0;32m      1\u001b[0m \u001b[0mtest\u001b[0m \u001b[1;33m=\u001b[0m \u001b[1;33m[\u001b[0m\u001b[1;34m'エンジン'\u001b[0m\u001b[1;33m,\u001b[0m\u001b[1;34m'ﾗﾌｪｽﾀ'\u001b[0m\u001b[1;33m,\u001b[0m\u001b[1;34m'NB30'\u001b[0m\u001b[1;33m,\u001b[0m\u001b[1;34m'MR20DE'\u001b[0m\u001b[1;33m,\u001b[0m\u001b[1;34m'40000.0'\u001b[0m\u001b[1;33m,\u001b[0m\u001b[1;34m'2019-9'\u001b[0m\u001b[1;33m]\u001b[0m\u001b[1;33m\u001b[0m\u001b[1;33m\u001b[0m\u001b[0m\n\u001b[1;32m----> 2\u001b[1;33m \u001b[0mencode\u001b[0m \u001b[1;33m=\u001b[0m \u001b[0mle\u001b[0m\u001b[1;33m.\u001b[0m\u001b[0mfit_transform\u001b[0m\u001b[1;33m(\u001b[0m\u001b[0mnp\u001b[0m\u001b[1;33m.\u001b[0m\u001b[0marray\u001b[0m\u001b[1;33m(\u001b[0m\u001b[1;33m[\u001b[0m\u001b[1;33m[\u001b[0m\u001b[1;36m1\u001b[0m\u001b[1;33m,\u001b[0m \u001b[1;36m2\u001b[0m\u001b[1;33m]\u001b[0m\u001b[1;33m,\u001b[0m \u001b[1;33m[\u001b[0m\u001b[1;36m3\u001b[0m\u001b[1;33m,\u001b[0m \u001b[1;36m1\u001b[0m\u001b[1;33m]\u001b[0m\u001b[1;33m,\u001b[0m \u001b[1;33m[\u001b[0m\u001b[1;36m3\u001b[0m\u001b[1;33m,\u001b[0m \u001b[1;36m2\u001b[0m\u001b[1;33m]\u001b[0m\u001b[1;33m]\u001b[0m\u001b[1;33m)\u001b[0m\u001b[1;33m)\u001b[0m\u001b[1;33m\u001b[0m\u001b[1;33m\u001b[0m\u001b[0m\n\u001b[0m\u001b[0;32m      3\u001b[0m \u001b[0mtest_encode\u001b[0m \u001b[1;33m=\u001b[0m \u001b[0mencode\u001b[0m\u001b[1;33m.\u001b[0m\u001b[0mtransform\u001b[0m\u001b[1;33m(\u001b[0m\u001b[0mtest\u001b[0m\u001b[1;33m)\u001b[0m\u001b[1;33m\u001b[0m\u001b[1;33m\u001b[0m\u001b[0m\n",
      "\u001b[1;32mD:\\Software\\Anaconda\\lib\\site-packages\\sklearn\\preprocessing\\_label.py\u001b[0m in \u001b[0;36mfit_transform\u001b[1;34m(self, y)\u001b[0m\n\u001b[0;32m    114\u001b[0m         \u001b[0my\u001b[0m \u001b[1;33m:\u001b[0m \u001b[0marray\u001b[0m\u001b[1;33m-\u001b[0m\u001b[0mlike\u001b[0m \u001b[0mof\u001b[0m \u001b[0mshape\u001b[0m \u001b[1;33m(\u001b[0m\u001b[0mn_samples\u001b[0m\u001b[1;33m,\u001b[0m\u001b[1;33m)\u001b[0m\u001b[1;33m\u001b[0m\u001b[1;33m\u001b[0m\u001b[0m\n\u001b[0;32m    115\u001b[0m         \"\"\"\n\u001b[1;32m--> 116\u001b[1;33m         \u001b[0my\u001b[0m \u001b[1;33m=\u001b[0m \u001b[0mcolumn_or_1d\u001b[0m\u001b[1;33m(\u001b[0m\u001b[0my\u001b[0m\u001b[1;33m,\u001b[0m \u001b[0mwarn\u001b[0m\u001b[1;33m=\u001b[0m\u001b[1;32mTrue\u001b[0m\u001b[1;33m)\u001b[0m\u001b[1;33m\u001b[0m\u001b[1;33m\u001b[0m\u001b[0m\n\u001b[0m\u001b[0;32m    117\u001b[0m         \u001b[0mself\u001b[0m\u001b[1;33m.\u001b[0m\u001b[0mclasses_\u001b[0m\u001b[1;33m,\u001b[0m \u001b[0my\u001b[0m \u001b[1;33m=\u001b[0m \u001b[0m_unique\u001b[0m\u001b[1;33m(\u001b[0m\u001b[0my\u001b[0m\u001b[1;33m,\u001b[0m \u001b[0mreturn_inverse\u001b[0m\u001b[1;33m=\u001b[0m\u001b[1;32mTrue\u001b[0m\u001b[1;33m)\u001b[0m\u001b[1;33m\u001b[0m\u001b[1;33m\u001b[0m\u001b[0m\n\u001b[0;32m    118\u001b[0m         \u001b[1;32mreturn\u001b[0m \u001b[0my\u001b[0m\u001b[1;33m\u001b[0m\u001b[1;33m\u001b[0m\u001b[0m\n",
      "\u001b[1;32mD:\\Software\\Anaconda\\lib\\site-packages\\sklearn\\utils\\validation.py\u001b[0m in \u001b[0;36minner_f\u001b[1;34m(*args, **kwargs)\u001b[0m\n\u001b[0;32m     61\u001b[0m             \u001b[0mextra_args\u001b[0m \u001b[1;33m=\u001b[0m \u001b[0mlen\u001b[0m\u001b[1;33m(\u001b[0m\u001b[0margs\u001b[0m\u001b[1;33m)\u001b[0m \u001b[1;33m-\u001b[0m \u001b[0mlen\u001b[0m\u001b[1;33m(\u001b[0m\u001b[0mall_args\u001b[0m\u001b[1;33m)\u001b[0m\u001b[1;33m\u001b[0m\u001b[1;33m\u001b[0m\u001b[0m\n\u001b[0;32m     62\u001b[0m             \u001b[1;32mif\u001b[0m \u001b[0mextra_args\u001b[0m \u001b[1;33m<=\u001b[0m \u001b[1;36m0\u001b[0m\u001b[1;33m:\u001b[0m\u001b[1;33m\u001b[0m\u001b[1;33m\u001b[0m\u001b[0m\n\u001b[1;32m---> 63\u001b[1;33m                 \u001b[1;32mreturn\u001b[0m \u001b[0mf\u001b[0m\u001b[1;33m(\u001b[0m\u001b[1;33m*\u001b[0m\u001b[0margs\u001b[0m\u001b[1;33m,\u001b[0m \u001b[1;33m**\u001b[0m\u001b[0mkwargs\u001b[0m\u001b[1;33m)\u001b[0m\u001b[1;33m\u001b[0m\u001b[1;33m\u001b[0m\u001b[0m\n\u001b[0m\u001b[0;32m     64\u001b[0m \u001b[1;33m\u001b[0m\u001b[0m\n\u001b[0;32m     65\u001b[0m             \u001b[1;31m# extra_args > 0\u001b[0m\u001b[1;33m\u001b[0m\u001b[1;33m\u001b[0m\u001b[1;33m\u001b[0m\u001b[0m\n",
      "\u001b[1;32mD:\\Software\\Anaconda\\lib\\site-packages\\sklearn\\utils\\validation.py\u001b[0m in \u001b[0;36mcolumn_or_1d\u001b[1;34m(y, warn)\u001b[0m\n\u001b[0;32m    862\u001b[0m         \u001b[1;32mreturn\u001b[0m \u001b[0mnp\u001b[0m\u001b[1;33m.\u001b[0m\u001b[0mravel\u001b[0m\u001b[1;33m(\u001b[0m\u001b[0my\u001b[0m\u001b[1;33m)\u001b[0m\u001b[1;33m\u001b[0m\u001b[1;33m\u001b[0m\u001b[0m\n\u001b[0;32m    863\u001b[0m \u001b[1;33m\u001b[0m\u001b[0m\n\u001b[1;32m--> 864\u001b[1;33m     raise ValueError(\n\u001b[0m\u001b[0;32m    865\u001b[0m         \u001b[1;34m\"y should be a 1d array, \"\u001b[0m\u001b[1;33m\u001b[0m\u001b[1;33m\u001b[0m\u001b[0m\n\u001b[0;32m    866\u001b[0m         \"got an array of shape {} instead.\".format(shape))\n",
      "\u001b[1;31mValueError\u001b[0m: y should be a 1d array, got an array of shape (3, 2) instead."
     ]
    }
   ],
   "source": [
    "test = ['エンジン','ﾗﾌｪｽﾀ','NB30','MR20DE','40000.0','2019-9']\n",
    "encode = le.fit_transform(np.array([[1, 2], [3, 1], [3, 2]]))\n",
    "test_encode = encode.transform(test)"
   ]
  },
  {
   "cell_type": "code",
   "execution_count": 257,
   "id": "2efd63ba",
   "metadata": {},
   "outputs": [
    {
     "data": {
      "text/plain": [
       "array([4, 5, 3, 2, 1, 0])"
      ]
     },
     "execution_count": 257,
     "metadata": {},
     "output_type": "execute_result"
    }
   ],
   "source": [
    "test_encode"
   ]
  },
  {
   "cell_type": "code",
   "execution_count": 251,
   "id": "31fa41b1",
   "metadata": {},
   "outputs": [
    {
     "ename": "TypeError",
     "evalue": "object of type 'LabelEncoder' has no len()",
     "output_type": "error",
     "traceback": [
      "\u001b[1;31m---------------------------------------------------------------------------\u001b[0m",
      "\u001b[1;31mTypeError\u001b[0m                                 Traceback (most recent call last)",
      "\u001b[1;32m<ipython-input-251-ccd7854ab4a7>\u001b[0m in \u001b[0;36m<module>\u001b[1;34m\u001b[0m\n\u001b[1;32m----> 1\u001b[1;33m \u001b[0mmodel\u001b[0m\u001b[1;33m.\u001b[0m\u001b[0mpredict\u001b[0m\u001b[1;33m(\u001b[0m\u001b[0mnp\u001b[0m\u001b[1;33m.\u001b[0m\u001b[0marray\u001b[0m\u001b[1;33m(\u001b[0m\u001b[0mtest_encode\u001b[0m\u001b[1;33m)\u001b[0m\u001b[1;33m.\u001b[0m\u001b[0mreshape\u001b[0m\u001b[1;33m(\u001b[0m\u001b[1;36m1\u001b[0m\u001b[1;33m,\u001b[0m\u001b[0mlen\u001b[0m\u001b[1;33m(\u001b[0m\u001b[0mtest_encode\u001b[0m\u001b[1;33m)\u001b[0m\u001b[1;33m)\u001b[0m\u001b[1;33m)\u001b[0m\u001b[1;33m\u001b[0m\u001b[1;33m\u001b[0m\u001b[0m\n\u001b[0m",
      "\u001b[1;31mTypeError\u001b[0m: object of type 'LabelEncoder' has no len()"
     ]
    }
   ],
   "source": [
    "model.predict(np.array(test_encode).reshape(1,len(test_encode)))"
   ]
  },
  {
   "cell_type": "code",
   "execution_count": 245,
   "id": "6f99f627",
   "metadata": {},
   "outputs": [
    {
     "name": "stdout",
     "output_type": "stream",
     "text": [
      "[[-1.41421356  0.70710678]\n",
      " [ 0.70710678 -1.41421356]\n",
      " [ 0.70710678  0.70710678]]\n"
     ]
    }
   ],
   "source": [
    "from sklearn.preprocessing import StandardScaler\n",
    "data = np.array([[1, 2], [3, 1], [3, 2]])\n",
    "scaler = StandardScaler()\n",
    "print(scaler.fit_transform(data))"
   ]
  },
  {
   "cell_type": "code",
   "execution_count": 246,
   "id": "3674bb2b",
   "metadata": {},
   "outputs": [
    {
     "data": {
      "text/plain": [
       "(3, 2)"
      ]
     },
     "execution_count": 246,
     "metadata": {},
     "output_type": "execute_result"
    }
   ],
   "source": [
    "data.shape"
   ]
  },
  {
   "cell_type": "code",
   "execution_count": null,
   "id": "6cb36ad5",
   "metadata": {},
   "outputs": [],
   "source": []
  }
 ],
 "metadata": {
  "kernelspec": {
   "display_name": "Python 3",
   "language": "python",
   "name": "python3"
  },
  "language_info": {
   "codemirror_mode": {
    "name": "ipython",
    "version": 3
   },
   "file_extension": ".py",
   "mimetype": "text/x-python",
   "name": "python",
   "nbconvert_exporter": "python",
   "pygments_lexer": "ipython3",
   "version": "3.8.8"
  }
 },
 "nbformat": 4,
 "nbformat_minor": 5
}
